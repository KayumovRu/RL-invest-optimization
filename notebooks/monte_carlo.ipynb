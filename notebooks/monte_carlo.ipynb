{
 "cells": [
  {
   "cell_type": "code",
   "execution_count": 2,
   "metadata": {},
   "outputs": [],
   "source": [
    "import pandas as pd\n",
    "import numpy as np"
   ]
  },
  {
   "cell_type": "code",
   "execution_count": 3,
   "metadata": {},
   "outputs": [
    {
     "data": {
      "text/html": [
       "<div>\n",
       "<style scoped>\n",
       "    .dataframe tbody tr th:only-of-type {\n",
       "        vertical-align: middle;\n",
       "    }\n",
       "\n",
       "    .dataframe tbody tr th {\n",
       "        vertical-align: top;\n",
       "    }\n",
       "\n",
       "    .dataframe thead th {\n",
       "        text-align: right;\n",
       "    }\n",
       "</style>\n",
       "<table border=\"1\" class=\"dataframe\">\n",
       "  <thead>\n",
       "    <tr style=\"text-align: right;\">\n",
       "      <th></th>\n",
       "      <th>EUR</th>\n",
       "      <th>GOLD</th>\n",
       "      <th>Bitcoin</th>\n",
       "      <th>Apple</th>\n",
       "      <th>Exxon</th>\n",
       "      <th>VISA</th>\n",
       "      <th>Oil</th>\n",
       "    </tr>\n",
       "    <tr>\n",
       "      <th>Date</th>\n",
       "      <th></th>\n",
       "      <th></th>\n",
       "      <th></th>\n",
       "      <th></th>\n",
       "      <th></th>\n",
       "      <th></th>\n",
       "      <th></th>\n",
       "    </tr>\n",
       "  </thead>\n",
       "  <tbody>\n",
       "    <tr>\n",
       "      <th>2020-01-12</th>\n",
       "      <td>-0.005400</td>\n",
       "      <td>0.005358</td>\n",
       "      <td>0.111870</td>\n",
       "      <td>0.043372</td>\n",
       "      <td>-0.016920</td>\n",
       "      <td>0.021994</td>\n",
       "      <td>-0.063600</td>\n",
       "    </tr>\n",
       "    <tr>\n",
       "      <th>2020-01-19</th>\n",
       "      <td>0.002562</td>\n",
       "      <td>0.000835</td>\n",
       "      <td>0.093367</td>\n",
       "      <td>0.027068</td>\n",
       "      <td>-0.008389</td>\n",
       "      <td>0.056407</td>\n",
       "      <td>-0.008469</td>\n",
       "    </tr>\n",
       "    <tr>\n",
       "      <th>2020-01-26</th>\n",
       "      <td>-0.007573</td>\n",
       "      <td>0.007891</td>\n",
       "      <td>-0.054161</td>\n",
       "      <td>-0.001318</td>\n",
       "      <td>-0.032672</td>\n",
       "      <td>0.001466</td>\n",
       "      <td>-0.074308</td>\n",
       "    </tr>\n",
       "    <tr>\n",
       "      <th>2020-02-02</th>\n",
       "      <td>-0.002360</td>\n",
       "      <td>0.007511</td>\n",
       "      <td>0.107170</td>\n",
       "      <td>-0.027646</td>\n",
       "      <td>-0.063329</td>\n",
       "      <td>-0.029415</td>\n",
       "      <td>-0.048533</td>\n",
       "    </tr>\n",
       "    <tr>\n",
       "      <th>2020-02-09</th>\n",
       "      <td>-0.004185</td>\n",
       "      <td>-0.009034</td>\n",
       "      <td>0.047635</td>\n",
       "      <td>0.036443</td>\n",
       "      <td>-0.010464</td>\n",
       "      <td>0.018948</td>\n",
       "      <td>-0.024050</td>\n",
       "    </tr>\n",
       "  </tbody>\n",
       "</table>\n",
       "</div>"
      ],
      "text/plain": [
       "                 EUR      GOLD   Bitcoin     Apple     Exxon      VISA  \\\n",
       "Date                                                                     \n",
       "2020-01-12 -0.005400  0.005358  0.111870  0.043372 -0.016920  0.021994   \n",
       "2020-01-19  0.002562  0.000835  0.093367  0.027068 -0.008389  0.056407   \n",
       "2020-01-26 -0.007573  0.007891 -0.054161 -0.001318 -0.032672  0.001466   \n",
       "2020-02-02 -0.002360  0.007511  0.107170 -0.027646 -0.063329 -0.029415   \n",
       "2020-02-09 -0.004185 -0.009034  0.047635  0.036443 -0.010464  0.018948   \n",
       "\n",
       "                 Oil  \n",
       "Date                  \n",
       "2020-01-12 -0.063600  \n",
       "2020-01-19 -0.008469  \n",
       "2020-01-26 -0.074308  \n",
       "2020-02-02 -0.048533  \n",
       "2020-02-09 -0.024050  "
      ]
     },
     "execution_count": 3,
     "metadata": {},
     "output_type": "execute_result"
    }
   ],
   "source": [
    "df = pd.read_csv('../data/datasets/mvp_data.csv', parse_dates=True, index_col=0)\n",
    "tickers = ['EUR', 'GOLD', 'Bitcoin', 'Apple', 'Exxon', 'VISA', 'Oil']\n",
    "df.columns = tickers\n",
    "df_w = df.fillna(method='ffill').resample('W').ffill()\n",
    "df_w_pct = df_w.pct_change().iloc[1:]\n",
    "df_w_pct.head()"
   ]
  },
  {
   "cell_type": "code",
   "execution_count": 3,
   "metadata": {},
   "outputs": [],
   "source": [
    "train_df = df_w_pct[:'2021-12-31'] # 2020-2021\n",
    "test_df = df_w_pct['2022-01-01':] # 2022"
   ]
  },
  {
   "cell_type": "code",
   "execution_count": 4,
   "metadata": {},
   "outputs": [],
   "source": [
    "num_assets = len(tickers)\n",
    "\n",
    "mean_returns = train_df.mean()\n",
    "cov_matrix = train_df.cov()\n"
   ]
  },
  {
   "attachments": {},
   "cell_type": "markdown",
   "metadata": {},
   "source": [
    "## СИМУЛЯЦИЯ"
   ]
  },
  {
   "cell_type": "code",
   "execution_count": 5,
   "metadata": {},
   "outputs": [],
   "source": [
    "#массив из нулей\n",
    "num_iter = 1000\n",
    "simulations = np.zeros((4 + len(tickers)- 1, num_iter))\n",
    "\n",
    "for i in range(num_iter):\n",
    "        # случайные веса + нормализация, чтобы сумма 1\n",
    "        weights = np.array(np.random.random(num_assets))\n",
    "        weights /= np.sum(weights)\n",
    "        \n",
    "        # доходность и стандартное отклонение\n",
    "        portfolio_return = np.sum(mean_returns * weights)\n",
    "        portfolio_std_dev = np.sqrt(np.dot(weights.T,np.dot(cov_matrix, weights)))\n",
    "        simulations[0,i] = portfolio_return\n",
    "        simulations[1,i] = portfolio_std_dev\n",
    "        \n",
    "        # кэф Шарпа\n",
    "        simulations[2,i] = simulations[0,i] / simulations[1,i]\n",
    "        \n",
    "        # dtcf\n",
    "        for j in range(len(weights)):\n",
    "                simulations[j+3,i] = weights[j]\n",
    "\n",
    "# результат\n",
    "df_sim = pd.DataFrame(simulations.T, \n",
    "                         columns=['RETURN','stdev','Sharpe', tickers[0], tickers[1], tickers[2], tickers[3], tickers[4], tickers[5], tickers[6]])"
   ]
  },
  {
   "cell_type": "code",
   "execution_count": 6,
   "metadata": {},
   "outputs": [
    {
     "name": "stdout",
     "output_type": "stream",
     "text": [
      "Портфель с макс. Шарпом:\n",
      "RETURN     0.010494\n",
      "stdev      0.039072\n",
      "Sharpe     0.268585\n",
      "EUR        0.007260\n",
      "GOLD       0.318395\n",
      "Bitcoin    0.272878\n",
      "Apple      0.296706\n",
      "Exxon      0.022542\n",
      "VISA       0.056314\n",
      "Oil        0.025904\n",
      "Name: 880, dtype: float64\n"
     ]
    }
   ],
   "source": [
    "# максимальный Шарп\n",
    "max_sharpe = df_sim.iloc[df_sim['Sharpe'].idxmax()]\n",
    "\n",
    "# минимальное ст. отклонение\n",
    "min_std = df_sim.iloc[df_sim['stdev'].idxmin()]\n",
    "\n",
    "# максимальная прибыль\n",
    "max_profit = df_sim.iloc[df_sim['RETURN'].idxmax()]\n",
    "\n",
    "print (\"Портфель с макс. Шарпом:\", max_sharpe, sep='\\n')"
   ]
  },
  {
   "cell_type": "code",
   "execution_count": 7,
   "metadata": {},
   "outputs": [
    {
     "name": "stdout",
     "output_type": "stream",
     "text": [
      "Портфель с мин. риском:\n",
      "RETURN     0.003223\n",
      "stdev      0.022334\n",
      "Sharpe     0.144327\n",
      "EUR        0.301951\n",
      "GOLD       0.221720\n",
      "Bitcoin    0.010542\n",
      "Apple      0.195620\n",
      "Exxon      0.048282\n",
      "VISA       0.214250\n",
      "Oil        0.007634\n",
      "Name: 268, dtype: float64\n"
     ]
    }
   ],
   "source": [
    "print (\"Портфель с мин. риском:\", min_std, sep='\\n')"
   ]
  },
  {
   "cell_type": "code",
   "execution_count": 8,
   "metadata": {},
   "outputs": [
    {
     "name": "stdout",
     "output_type": "stream",
     "text": [
      "Портфель с макс. прибылью:\n",
      "RETURN     0.014166\n",
      "stdev      0.058851\n",
      "Sharpe     0.240714\n",
      "EUR        0.014223\n",
      "GOLD       0.110647\n",
      "Bitcoin    0.472784\n",
      "Apple      0.163474\n",
      "Exxon      0.147978\n",
      "VISA       0.006129\n",
      "Oil        0.084766\n",
      "Name: 987, dtype: float64\n"
     ]
    }
   ],
   "source": [
    "print (\"Портфель с макс. прибылью:\", max_profit, sep='\\n') # не всегда совпадает с макс. шарпом"
   ]
  },
  {
   "cell_type": "code",
   "execution_count": 9,
   "metadata": {},
   "outputs": [],
   "source": [
    "# сохраняем модель\n",
    "# df_sim.to_pickle('model_monte_carlo.pkl')"
   ]
  },
  {
   "cell_type": "code",
   "execution_count": 16,
   "metadata": {},
   "outputs": [
    {
     "data": {
      "text/plain": [
       "3183.95"
      ]
     },
     "execution_count": 16,
     "metadata": {},
     "output_type": "execute_result"
    }
   ],
   "source": [
    "round(max_sharpe.GOLD * 10000, 2)"
   ]
  },
  {
   "cell_type": "code",
   "execution_count": 12,
   "metadata": {},
   "outputs": [
    {
     "data": {
      "text/plain": [
       "RETURN     0.014166\n",
       "stdev      0.058851\n",
       "Sharpe     0.240714\n",
       "EUR        0.014223\n",
       "GOLD       0.110647\n",
       "Bitcoin    0.472784\n",
       "Apple      0.163474\n",
       "Exxon      0.147978\n",
       "VISA       0.006129\n",
       "Oil        0.084766\n",
       "Name: 987, dtype: float64"
      ]
     },
     "execution_count": 12,
     "metadata": {},
     "output_type": "execute_result"
    }
   ],
   "source": [
    "max_profit"
   ]
  },
  {
   "cell_type": "code",
   "execution_count": 18,
   "metadata": {},
   "outputs": [
    {
     "data": {
      "text/plain": [
       "[130.11, 140.74, 327.12]"
      ]
     },
     "execution_count": 18,
     "metadata": {},
     "output_type": "execute_result"
    }
   ],
   "source": [
    "# проверки по модели\n",
    "model = pd.read_pickle('../models/model_monte_carlo.pkl')\n",
    "portfolio = model.iloc[model['Sharpe'].idxmax()]\n",
    "depo = 1000\n",
    "[round(portfolio.EUR * depo, 2), round(portfolio.GOLD * depo, 2), round(portfolio.Bitcoin * depo, 2)]"
   ]
  }
 ],
 "metadata": {
  "kernelspec": {
   "display_name": "Python 3",
   "language": "python",
   "name": "python3"
  },
  "language_info": {
   "codemirror_mode": {
    "name": "ipython",
    "version": 3
   },
   "file_extension": ".py",
   "mimetype": "text/x-python",
   "name": "python",
   "nbconvert_exporter": "python",
   "pygments_lexer": "ipython3",
   "version": "3.8.5"
  },
  "orig_nbformat": 4,
  "vscode": {
   "interpreter": {
    "hash": "2469a70536e4d2335a2ea8907942d0699c37342a371ac185bdb5b0aa6f073890"
   }
  }
 },
 "nbformat": 4,
 "nbformat_minor": 2
}
