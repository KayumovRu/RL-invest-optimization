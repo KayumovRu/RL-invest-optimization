{
  "cells": [
    {
      "cell_type": "code",
      "execution_count": 1,
      "metadata": {
        "id": "IYM1M1Kto_si"
      },
      "outputs": [],
      "source": [
        "import pandas as pd"
      ]
    },
    {
      "cell_type": "code",
      "execution_count": 20,
      "metadata": {
        "id": "ZWhjixJgpKlb"
      },
      "outputs": [],
      "source": [
        "# !pip install PyPortfolioOpt"
      ]
    },
    {
      "cell_type": "code",
      "execution_count": 4,
      "metadata": {
        "colab": {
          "base_uri": "https://localhost:8080/",
          "height": 237
        },
        "id": "DO-8B-_Hpe_7",
        "outputId": "8e5560ef-7ea7-4b40-83db-a0450e2e3a0d"
      },
      "outputs": [
        {
          "data": {
            "text/html": [
              "\n",
              "  <div id=\"df-b92b53d5-310f-42fa-af38-b4d32c0eca78\">\n",
              "    <div class=\"colab-df-container\">\n",
              "      <div>\n",
              "<style scoped>\n",
              "    .dataframe tbody tr th:only-of-type {\n",
              "        vertical-align: middle;\n",
              "    }\n",
              "\n",
              "    .dataframe tbody tr th {\n",
              "        vertical-align: top;\n",
              "    }\n",
              "\n",
              "    .dataframe thead th {\n",
              "        text-align: right;\n",
              "    }\n",
              "</style>\n",
              "<table border=\"1\" class=\"dataframe\">\n",
              "  <thead>\n",
              "    <tr style=\"text-align: right;\">\n",
              "      <th></th>\n",
              "      <th>EUR</th>\n",
              "      <th>GOLD</th>\n",
              "      <th>Bitcoin</th>\n",
              "      <th>Apple</th>\n",
              "      <th>Exxon</th>\n",
              "      <th>VISA</th>\n",
              "      <th>Oil</th>\n",
              "    </tr>\n",
              "    <tr>\n",
              "      <th>Date</th>\n",
              "      <th></th>\n",
              "      <th></th>\n",
              "      <th></th>\n",
              "      <th></th>\n",
              "      <th></th>\n",
              "      <th></th>\n",
              "      <th></th>\n",
              "    </tr>\n",
              "  </thead>\n",
              "  <tbody>\n",
              "    <tr>\n",
              "      <th>2020-01-05</th>\n",
              "      <td>1.117144</td>\n",
              "      <td>1549.199951</td>\n",
              "      <td>7344.884277</td>\n",
              "      <td>72.735321</td>\n",
              "      <td>58.564049</td>\n",
              "      <td>185.520187</td>\n",
              "      <td>63.049999</td>\n",
              "    </tr>\n",
              "    <tr>\n",
              "      <th>2020-01-12</th>\n",
              "      <td>1.111111</td>\n",
              "      <td>1557.500000</td>\n",
              "      <td>8166.554199</td>\n",
              "      <td>75.889969</td>\n",
              "      <td>57.573124</td>\n",
              "      <td>189.600433</td>\n",
              "      <td>59.040001</td>\n",
              "    </tr>\n",
              "    <tr>\n",
              "      <th>2020-01-19</th>\n",
              "      <td>1.113958</td>\n",
              "      <td>1558.800049</td>\n",
              "      <td>8929.038086</td>\n",
              "      <td>77.944138</td>\n",
              "      <td>57.090160</td>\n",
              "      <td>200.295197</td>\n",
              "      <td>58.540001</td>\n",
              "    </tr>\n",
              "    <tr>\n",
              "      <th>2020-01-26</th>\n",
              "      <td>1.105522</td>\n",
              "      <td>1571.099976</td>\n",
              "      <td>8445.434570</td>\n",
              "      <td>77.841423</td>\n",
              "      <td>55.224911</td>\n",
              "      <td>200.588791</td>\n",
              "      <td>54.189999</td>\n",
              "    </tr>\n",
              "    <tr>\n",
              "      <th>2020-02-02</th>\n",
              "      <td>1.102913</td>\n",
              "      <td>1582.900024</td>\n",
              "      <td>9350.529297</td>\n",
              "      <td>75.689430</td>\n",
              "      <td>51.727554</td>\n",
              "      <td>194.688538</td>\n",
              "      <td>51.560001</td>\n",
              "    </tr>\n",
              "  </tbody>\n",
              "</table>\n",
              "</div>\n",
              "      <button class=\"colab-df-convert\" onclick=\"convertToInteractive('df-b92b53d5-310f-42fa-af38-b4d32c0eca78')\"\n",
              "              title=\"Convert this dataframe to an interactive table.\"\n",
              "              style=\"display:none;\">\n",
              "        \n",
              "  <svg xmlns=\"http://www.w3.org/2000/svg\" height=\"24px\"viewBox=\"0 0 24 24\"\n",
              "       width=\"24px\">\n",
              "    <path d=\"M0 0h24v24H0V0z\" fill=\"none\"/>\n",
              "    <path d=\"M18.56 5.44l.94 2.06.94-2.06 2.06-.94-2.06-.94-.94-2.06-.94 2.06-2.06.94zm-11 1L8.5 8.5l.94-2.06 2.06-.94-2.06-.94L8.5 2.5l-.94 2.06-2.06.94zm10 10l.94 2.06.94-2.06 2.06-.94-2.06-.94-.94-2.06-.94 2.06-2.06.94z\"/><path d=\"M17.41 7.96l-1.37-1.37c-.4-.4-.92-.59-1.43-.59-.52 0-1.04.2-1.43.59L10.3 9.45l-7.72 7.72c-.78.78-.78 2.05 0 2.83L4 21.41c.39.39.9.59 1.41.59.51 0 1.02-.2 1.41-.59l7.78-7.78 2.81-2.81c.8-.78.8-2.07 0-2.86zM5.41 20L4 18.59l7.72-7.72 1.47 1.35L5.41 20z\"/>\n",
              "  </svg>\n",
              "      </button>\n",
              "      \n",
              "  <style>\n",
              "    .colab-df-container {\n",
              "      display:flex;\n",
              "      flex-wrap:wrap;\n",
              "      gap: 12px;\n",
              "    }\n",
              "\n",
              "    .colab-df-convert {\n",
              "      background-color: #E8F0FE;\n",
              "      border: none;\n",
              "      border-radius: 50%;\n",
              "      cursor: pointer;\n",
              "      display: none;\n",
              "      fill: #1967D2;\n",
              "      height: 32px;\n",
              "      padding: 0 0 0 0;\n",
              "      width: 32px;\n",
              "    }\n",
              "\n",
              "    .colab-df-convert:hover {\n",
              "      background-color: #E2EBFA;\n",
              "      box-shadow: 0px 1px 2px rgba(60, 64, 67, 0.3), 0px 1px 3px 1px rgba(60, 64, 67, 0.15);\n",
              "      fill: #174EA6;\n",
              "    }\n",
              "\n",
              "    [theme=dark] .colab-df-convert {\n",
              "      background-color: #3B4455;\n",
              "      fill: #D2E3FC;\n",
              "    }\n",
              "\n",
              "    [theme=dark] .colab-df-convert:hover {\n",
              "      background-color: #434B5C;\n",
              "      box-shadow: 0px 1px 3px 1px rgba(0, 0, 0, 0.15);\n",
              "      filter: drop-shadow(0px 1px 2px rgba(0, 0, 0, 0.3));\n",
              "      fill: #FFFFFF;\n",
              "    }\n",
              "  </style>\n",
              "\n",
              "      <script>\n",
              "        const buttonEl =\n",
              "          document.querySelector('#df-b92b53d5-310f-42fa-af38-b4d32c0eca78 button.colab-df-convert');\n",
              "        buttonEl.style.display =\n",
              "          google.colab.kernel.accessAllowed ? 'block' : 'none';\n",
              "\n",
              "        async function convertToInteractive(key) {\n",
              "          const element = document.querySelector('#df-b92b53d5-310f-42fa-af38-b4d32c0eca78');\n",
              "          const dataTable =\n",
              "            await google.colab.kernel.invokeFunction('convertToInteractive',\n",
              "                                                     [key], {});\n",
              "          if (!dataTable) return;\n",
              "\n",
              "          const docLinkHtml = 'Like what you see? Visit the ' +\n",
              "            '<a target=\"_blank\" href=https://colab.research.google.com/notebooks/data_table.ipynb>data table notebook</a>'\n",
              "            + ' to learn more about interactive tables.';\n",
              "          element.innerHTML = '';\n",
              "          dataTable['output_type'] = 'display_data';\n",
              "          await google.colab.output.renderOutput(dataTable, element);\n",
              "          const docLink = document.createElement('div');\n",
              "          docLink.innerHTML = docLinkHtml;\n",
              "          element.appendChild(docLink);\n",
              "        }\n",
              "      </script>\n",
              "    </div>\n",
              "  </div>\n",
              "  "
            ],
            "text/plain": [
              "                 EUR         GOLD      Bitcoin      Apple      Exxon  \\\n",
              "Date                                                                   \n",
              "2020-01-05  1.117144  1549.199951  7344.884277  72.735321  58.564049   \n",
              "2020-01-12  1.111111  1557.500000  8166.554199  75.889969  57.573124   \n",
              "2020-01-19  1.113958  1558.800049  8929.038086  77.944138  57.090160   \n",
              "2020-01-26  1.105522  1571.099976  8445.434570  77.841423  55.224911   \n",
              "2020-02-02  1.102913  1582.900024  9350.529297  75.689430  51.727554   \n",
              "\n",
              "                  VISA        Oil  \n",
              "Date                               \n",
              "2020-01-05  185.520187  63.049999  \n",
              "2020-01-12  189.600433  59.040001  \n",
              "2020-01-19  200.295197  58.540001  \n",
              "2020-01-26  200.588791  54.189999  \n",
              "2020-02-02  194.688538  51.560001  "
            ]
          },
          "execution_count": 4,
          "metadata": {},
          "output_type": "execute_result"
        }
      ],
      "source": [
        "df = pd.read_csv('../data/mvp_data.csv', parse_dates=True, index_col=0)\n",
        "df.columns = ['EUR', 'GOLD', 'Bitcoin', 'Apple', 'Exxon', 'VISA', 'Oil']\n",
        "# заполним пропуски последними известными значениями, так как пропуски чаще всего - это праздничные периоды\n",
        "# перейдем на недельный интервал и средним значениям на них\n",
        "df_w = df.fillna(method='ffill').resample('W').ffill()\n",
        "df_w.head(5)"
      ]
    },
    {
      "cell_type": "code",
      "execution_count": 5,
      "metadata": {
        "id": "zC_CzJcrp0eG"
      },
      "outputs": [],
      "source": [
        "from pypfopt.efficient_frontier import EfficientFrontier \n",
        "from pypfopt import risk_models \n",
        "from pypfopt import expected_returns\n",
        "from pypfopt.cla import CLA\n",
        "import pypfopt.plotting as pplt\n",
        "from matplotlib.ticker import FuncFormatter"
      ]
    },
    {
      "cell_type": "code",
      "execution_count": 7,
      "metadata": {
        "colab": {
          "base_uri": "https://localhost:8080/"
        },
        "id": "lrAk7Hb9p7Vd",
        "outputId": "09fdcc3d-2f2b-4743-bee0-e4631e13628f"
      },
      "outputs": [
        {
          "name": "stdout",
          "output_type": "stream",
          "text": [
            "OrderedDict([('EUR', 0.0), ('GOLD', 0.0), ('Bitcoin', 0.15661), ('Apple', 0.51066), ('Exxon', 0.33274), ('VISA', 0.0), ('Oil', 0.0)])\n"
          ]
        }
      ],
      "source": [
        "#Годовая доходность\n",
        "mu = expected_returns.mean_historical_return(df_w) \n",
        "#Дисперсия портфеля\n",
        "Sigma = risk_models.sample_cov(df_w)\n",
        "#Максимальный коэффициент Шарпа\n",
        "ef = EfficientFrontier(mu, Sigma, weight_bounds=(0,1)) #\n",
        "sharpe_pfolio = ef.max_sharpe() #\n",
        "sharpe_pwt = ef.clean_weights()\n",
        "print(sharpe_pwt)"
      ]
    },
    {
      "cell_type": "code",
      "execution_count": 8,
      "metadata": {
        "colab": {
          "base_uri": "https://localhost:8080/"
        },
        "id": "jwMyNo3-qHwC",
        "outputId": "e902fa3d-6039-46b9-924f-82a33275bd58"
      },
      "outputs": [
        {
          "name": "stdout",
          "output_type": "stream",
          "text": [
            "Expected annual return: 179.9%\n",
            "Annual volatility: 63.8%\n",
            "Sharpe Ratio: 2.79\n"
          ]
        },
        {
          "data": {
            "text/plain": [
              "(1.7989694511886427, 0.6381682984299708, 2.7876180242191353)"
            ]
          },
          "execution_count": 8,
          "metadata": {},
          "output_type": "execute_result"
        }
      ],
      "source": [
        "# общие характеристики по портфелю\n",
        "ef.portfolio_performance(verbose=True)"
      ]
    },
    {
      "cell_type": "code",
      "execution_count": 31,
      "metadata": {
        "colab": {
          "base_uri": "https://localhost:8080/"
        },
        "id": "QI0cTLUUqqac",
        "outputId": "94c82e6f-f1d1-488c-faae-ec3d347a8c0d"
      },
      "outputs": [
        {
          "name": "stdout",
          "output_type": "stream",
          "text": [
            "OrderedDict([('EUR', 0.9177), ('GOLD', 0.07165), ('Bitcoin', 0.0), ('Apple', 0.0), ('Exxon', 0.0), ('VISA', 0.0), ('Oil', 0.01064)])\n"
          ]
        }
      ],
      "source": [
        "# посмотрим портфель, который показывает минимальную волатильность\n",
        "ef_1 = EfficientFrontier(mu, Sigma, weight_bounds=(0,1))\n",
        "minvol = ef_1.min_volatility()\n",
        "portf_minvol = ef_1.clean_weights()\n",
        "print(portf_minvol)"
      ]
    },
    {
      "cell_type": "code",
      "execution_count": 33,
      "metadata": {
        "id": "x708v12yqtiT"
      },
      "outputs": [],
      "source": [
        "# ef_1.portfolio_performance(verbose=True, risk_free_rate = 0.25)"
      ]
    },
    {
      "cell_type": "code",
      "execution_count": 40,
      "metadata": {
        "colab": {
          "base_uri": "https://localhost:8080/",
          "height": 297
        },
        "id": "SnXxTmY0rFqH",
        "outputId": "3398182e-36b7-458a-f260-05d1745ef624"
      },
      "outputs": [
        {
          "data": {
            "image/png": "[encoded data removed]",
            "text/plain": [
              "<Figure size 432x288 with 1 Axes>"
            ]
          },
          "metadata": {
            "needs_background": "light"
          },
          "output_type": "display_data"
        }
      ],
      "source": [
        "# визуализация эффективной границы\n",
        "ax = pplt.plot_efficient_frontier(CLA(mu, Sigma), showfig = False)\n",
        "ax.xaxis.set_major_formatter(FuncFormatter(lambda x, _: '{:.0%}'.format(x)))\n",
        "ax.yaxis.set_major_formatter(FuncFormatter(lambda y, _: '{:.0%}'.format(y)))"
      ]
    },
    {
      "cell_type": "code",
      "execution_count": 42,
      "metadata": {
        "colab": {
          "base_uri": "https://localhost:8080/"
        },
        "id": "AtuTvub0rgDl",
        "outputId": "fabba708-6c9e-4828-ec01-f07345b33d33"
      },
      "outputs": [
        {
          "name": "stdout",
          "output_type": "stream",
          "text": [
            "{'EUR': 861004, 'GOLD': 39, 'Apple': 1, 'Exxon': 1, 'VISA': 1, 'Oil': 133}\n",
            "Осталось средств после построения портфеля с минимальной волатильностью - 15.46 USD\n",
            "\n"
          ]
        }
      ],
      "source": [
        "from pypfopt.discrete_allocation import DiscreteAllocation, get_latest_prices\n",
        "\n",
        "# портфель с минимальной волатильностью\n",
        "latest_prices = get_latest_prices(df_w)\n",
        "allocation_minvol, rem_minvol = DiscreteAllocation(portf_minvol, latest_prices, total_portfolio_value=1000000).lp_portfolio() \n",
        "print(allocation_minvol)\n",
        "print(\"Осталось средств после построения портфеля с минимальной волатильностью - {:.2f} USD\".format(rem_minvol))\n",
        "print()"
      ]
    },
    {
      "cell_type": "code",
      "execution_count": 43,
      "metadata": {
        "colab": {
          "base_uri": "https://localhost:8080/"
        },
        "id": "Nyb1Tm5lvoih",
        "outputId": "ce658575-9b21-4f63-99f8-374c72f64d3b"
      },
      "outputs": [
        {
          "name": "stdout",
          "output_type": "stream",
          "text": [
            "{'EUR': 1976, 'GOLD': 1, 'Bitcoin': 9, 'Apple': 3940, 'Exxon': 3045, 'VISA': 5, 'Oil': 14}\n",
            "Осталось средств после построения портфеля с минимальной волатильностью - 47.47 USD\n"
          ]
        }
      ],
      "source": [
        "# портфель с максимальным коэффициентом Шарпа\n",
        "\n",
        "allocation_shp, rem_shp = DiscreteAllocation(sharpe_pwt, latest_prices, total_portfolio_value=1000000).lp_portfolio() \n",
        "print(allocation_shp)\n",
        "print(\"Осталось средств после построения портфеля с минимальной волатильностью - {:.2f} USD\".format(rem_shp))"
      ]
    },
    {
      "cell_type": "markdown",
      "metadata": {
        "id": "JI0aA4NGwNXQ"
      },
      "source": [
        "Итого, предлагается купить для оптимального портфеля (с учетом указанного капитала в 1 млн $):\n",
        "- EUR - 1976,\n",
        "- GOLD - 1,\n",
        "- Биткоины - 9,\n",
        "- акции Apple - 3940 шт,\n",
        "- акции Exxon Mobile - 3045 шт,\n",
        "- акции VISA - 5 шт,\n",
        "- Сырая нефть - 14 баррелей,\n",
        "- остаток - 47 USD"
      ]
    },
    {
      "attachments": {},
      "cell_type": "markdown",
      "metadata": {
        "id": "UMluuaMDvV8S"
      },
      "source": [
        "## Что сделать\n",
        "\n",
        "- обеспечить дробную покупку, после этого снизить капитал\n",
        "- сделать разделение на тест и валид\n",
        "- улучшить графики"
      ]
    },
    {
      "cell_type": "code",
      "execution_count": null,
      "metadata": {
        "id": "p2ZRSe50v8Sy"
      },
      "outputs": [],
      "source": []
    }
  ],
  "metadata": {
    "colab": {
      "provenance": []
    },
    "kernelspec": {
      "display_name": "Python 3",
      "language": "python",
      "name": "python3"
    },
    "language_info": {
      "name": "python",
      "version": "3.8.5"
    },
    "vscode": {
      "interpreter": {
        "hash": "2469a70536e4d2335a2ea8907942d0699c37342a371ac185bdb5b0aa6f073890"
      }
    }
  },
  "nbformat": 4,
  "nbformat_minor": 0
}
