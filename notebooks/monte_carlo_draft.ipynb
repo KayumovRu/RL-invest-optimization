{
 "cells": [
  {
   "cell_type": "code",
   "execution_count": 25,
   "metadata": {},
   "outputs": [],
   "source": [
    "import pandas as pd\n",
    "import numpy as np"
   ]
  },
  {
   "cell_type": "code",
   "execution_count": 63,
   "metadata": {},
   "outputs": [
    {
     "data": {
      "text/html": [
       "<div>\n",
       "<style scoped>\n",
       "    .dataframe tbody tr th:only-of-type {\n",
       "        vertical-align: middle;\n",
       "    }\n",
       "\n",
       "    .dataframe tbody tr th {\n",
       "        vertical-align: top;\n",
       "    }\n",
       "\n",
       "    .dataframe thead th {\n",
       "        text-align: right;\n",
       "    }\n",
       "</style>\n",
       "<table border=\"1\" class=\"dataframe\">\n",
       "  <thead>\n",
       "    <tr style=\"text-align: right;\">\n",
       "      <th></th>\n",
       "      <th>EUR</th>\n",
       "      <th>GOLD</th>\n",
       "      <th>Bitcoin</th>\n",
       "      <th>Apple</th>\n",
       "      <th>Exxon</th>\n",
       "      <th>VISA</th>\n",
       "      <th>Oil</th>\n",
       "    </tr>\n",
       "    <tr>\n",
       "      <th>Date</th>\n",
       "      <th></th>\n",
       "      <th></th>\n",
       "      <th></th>\n",
       "      <th></th>\n",
       "      <th></th>\n",
       "      <th></th>\n",
       "      <th></th>\n",
       "    </tr>\n",
       "  </thead>\n",
       "  <tbody>\n",
       "    <tr>\n",
       "      <th>2020-01-05</th>\n",
       "      <td>1.117144</td>\n",
       "      <td>1549.199951</td>\n",
       "      <td>7344.884277</td>\n",
       "      <td>72.735321</td>\n",
       "      <td>58.564049</td>\n",
       "      <td>185.520187</td>\n",
       "      <td>63.049999</td>\n",
       "    </tr>\n",
       "    <tr>\n",
       "      <th>2020-01-12</th>\n",
       "      <td>1.111111</td>\n",
       "      <td>1557.500000</td>\n",
       "      <td>8166.554199</td>\n",
       "      <td>75.889969</td>\n",
       "      <td>57.573124</td>\n",
       "      <td>189.600433</td>\n",
       "      <td>59.040001</td>\n",
       "    </tr>\n",
       "    <tr>\n",
       "      <th>2020-01-19</th>\n",
       "      <td>1.113958</td>\n",
       "      <td>1558.800049</td>\n",
       "      <td>8929.038086</td>\n",
       "      <td>77.944138</td>\n",
       "      <td>57.090160</td>\n",
       "      <td>200.295197</td>\n",
       "      <td>58.540001</td>\n",
       "    </tr>\n",
       "    <tr>\n",
       "      <th>2020-01-26</th>\n",
       "      <td>1.105522</td>\n",
       "      <td>1571.099976</td>\n",
       "      <td>8445.434570</td>\n",
       "      <td>77.841423</td>\n",
       "      <td>55.224911</td>\n",
       "      <td>200.588791</td>\n",
       "      <td>54.189999</td>\n",
       "    </tr>\n",
       "    <tr>\n",
       "      <th>2020-02-02</th>\n",
       "      <td>1.102913</td>\n",
       "      <td>1582.900024</td>\n",
       "      <td>9350.529297</td>\n",
       "      <td>75.689430</td>\n",
       "      <td>51.727554</td>\n",
       "      <td>194.688538</td>\n",
       "      <td>51.560001</td>\n",
       "    </tr>\n",
       "  </tbody>\n",
       "</table>\n",
       "</div>"
      ],
      "text/plain": [
       "                 EUR         GOLD      Bitcoin      Apple      Exxon  \\\n",
       "Date                                                                   \n",
       "2020-01-05  1.117144  1549.199951  7344.884277  72.735321  58.564049   \n",
       "2020-01-12  1.111111  1557.500000  8166.554199  75.889969  57.573124   \n",
       "2020-01-19  1.113958  1558.800049  8929.038086  77.944138  57.090160   \n",
       "2020-01-26  1.105522  1571.099976  8445.434570  77.841423  55.224911   \n",
       "2020-02-02  1.102913  1582.900024  9350.529297  75.689430  51.727554   \n",
       "\n",
       "                  VISA        Oil  \n",
       "Date                               \n",
       "2020-01-05  185.520187  63.049999  \n",
       "2020-01-12  189.600433  59.040001  \n",
       "2020-01-19  200.295197  58.540001  \n",
       "2020-01-26  200.588791  54.189999  \n",
       "2020-02-02  194.688538  51.560001  "
      ]
     },
     "execution_count": 63,
     "metadata": {},
     "output_type": "execute_result"
    }
   ],
   "source": [
    "df = pd.read_csv('../data/mvp_data.csv', parse_dates=True, index_col=0)\n",
    "tickers = ['EUR', 'GOLD', 'Bitcoin', 'Apple', 'Exxon', 'VISA', 'Oil']\n",
    "df.columns = tickers\n",
    "# заполним пропуски последними известными значениями, так как пропуски чаще всего - это праздничные периоды\n",
    "# перейдем на недельный интервал и средним значениям на них\n",
    "df_w = df.fillna(method='ffill').resample('W').ffill()\n",
    "df_w.head(5)"
   ]
  },
  {
   "cell_type": "code",
   "execution_count": 12,
   "metadata": {},
   "outputs": [
    {
     "data": {
      "text/html": [
       "<div>\n",
       "<style scoped>\n",
       "    .dataframe tbody tr th:only-of-type {\n",
       "        vertical-align: middle;\n",
       "    }\n",
       "\n",
       "    .dataframe tbody tr th {\n",
       "        vertical-align: top;\n",
       "    }\n",
       "\n",
       "    .dataframe thead th {\n",
       "        text-align: right;\n",
       "    }\n",
       "</style>\n",
       "<table border=\"1\" class=\"dataframe\">\n",
       "  <thead>\n",
       "    <tr style=\"text-align: right;\">\n",
       "      <th></th>\n",
       "      <th>EUR</th>\n",
       "      <th>GOLD</th>\n",
       "      <th>Bitcoin</th>\n",
       "      <th>Apple</th>\n",
       "      <th>Exxon</th>\n",
       "      <th>VISA</th>\n",
       "      <th>Oil</th>\n",
       "    </tr>\n",
       "    <tr>\n",
       "      <th>Date</th>\n",
       "      <th></th>\n",
       "      <th></th>\n",
       "      <th></th>\n",
       "      <th></th>\n",
       "      <th></th>\n",
       "      <th></th>\n",
       "      <th></th>\n",
       "    </tr>\n",
       "  </thead>\n",
       "  <tbody>\n",
       "    <tr>\n",
       "      <th>2020-01-12</th>\n",
       "      <td>-0.005400</td>\n",
       "      <td>0.005358</td>\n",
       "      <td>0.111870</td>\n",
       "      <td>0.043372</td>\n",
       "      <td>-0.016920</td>\n",
       "      <td>0.021994</td>\n",
       "      <td>-0.063600</td>\n",
       "    </tr>\n",
       "    <tr>\n",
       "      <th>2020-01-19</th>\n",
       "      <td>0.002562</td>\n",
       "      <td>0.000835</td>\n",
       "      <td>0.093367</td>\n",
       "      <td>0.027068</td>\n",
       "      <td>-0.008389</td>\n",
       "      <td>0.056407</td>\n",
       "      <td>-0.008469</td>\n",
       "    </tr>\n",
       "    <tr>\n",
       "      <th>2020-01-26</th>\n",
       "      <td>-0.007573</td>\n",
       "      <td>0.007891</td>\n",
       "      <td>-0.054161</td>\n",
       "      <td>-0.001318</td>\n",
       "      <td>-0.032672</td>\n",
       "      <td>0.001466</td>\n",
       "      <td>-0.074308</td>\n",
       "    </tr>\n",
       "    <tr>\n",
       "      <th>2020-02-02</th>\n",
       "      <td>-0.002360</td>\n",
       "      <td>0.007511</td>\n",
       "      <td>0.107170</td>\n",
       "      <td>-0.027646</td>\n",
       "      <td>-0.063329</td>\n",
       "      <td>-0.029415</td>\n",
       "      <td>-0.048533</td>\n",
       "    </tr>\n",
       "    <tr>\n",
       "      <th>2020-02-09</th>\n",
       "      <td>-0.004185</td>\n",
       "      <td>-0.009034</td>\n",
       "      <td>0.047635</td>\n",
       "      <td>0.036443</td>\n",
       "      <td>-0.010464</td>\n",
       "      <td>0.018948</td>\n",
       "      <td>-0.024050</td>\n",
       "    </tr>\n",
       "  </tbody>\n",
       "</table>\n",
       "</div>"
      ],
      "text/plain": [
       "                 EUR      GOLD   Bitcoin     Apple     Exxon      VISA  \\\n",
       "Date                                                                     \n",
       "2020-01-12 -0.005400  0.005358  0.111870  0.043372 -0.016920  0.021994   \n",
       "2020-01-19  0.002562  0.000835  0.093367  0.027068 -0.008389  0.056407   \n",
       "2020-01-26 -0.007573  0.007891 -0.054161 -0.001318 -0.032672  0.001466   \n",
       "2020-02-02 -0.002360  0.007511  0.107170 -0.027646 -0.063329 -0.029415   \n",
       "2020-02-09 -0.004185 -0.009034  0.047635  0.036443 -0.010464  0.018948   \n",
       "\n",
       "                 Oil  \n",
       "Date                  \n",
       "2020-01-12 -0.063600  \n",
       "2020-01-19 -0.008469  \n",
       "2020-01-26 -0.074308  \n",
       "2020-02-02 -0.048533  \n",
       "2020-02-09 -0.024050  "
      ]
     },
     "execution_count": 12,
     "metadata": {},
     "output_type": "execute_result"
    }
   ],
   "source": [
    "# % понедельная доходность\n",
    "df_w_pct = df_w.pct_change().iloc[1:]\n",
    "df_w_pct.head()"
   ]
  },
  {
   "cell_type": "code",
   "execution_count": 15,
   "metadata": {},
   "outputs": [
    {
     "data": {
      "text/plain": [
       "EUR       -0.000230\n",
       "GOLD       0.001312\n",
       "Bitcoin    0.010368\n",
       "Apple      0.004751\n",
       "Exxon      0.005587\n",
       "VISA       0.001632\n",
       "Oil        0.004626\n",
       "dtype: float64"
      ]
     },
     "execution_count": 15,
     "metadata": {},
     "output_type": "execute_result"
    }
   ],
   "source": [
    "# средняя доходность по активам\n",
    "mean_returns = df_w_pct.mean()\n",
    "mean_returns"
   ]
  },
  {
   "cell_type": "code",
   "execution_count": 40,
   "metadata": {},
   "outputs": [
    {
     "data": {
      "text/html": [
       "<div>\n",
       "<style scoped>\n",
       "    .dataframe tbody tr th:only-of-type {\n",
       "        vertical-align: middle;\n",
       "    }\n",
       "\n",
       "    .dataframe tbody tr th {\n",
       "        vertical-align: top;\n",
       "    }\n",
       "\n",
       "    .dataframe thead th {\n",
       "        text-align: right;\n",
       "    }\n",
       "</style>\n",
       "<table border=\"1\" class=\"dataframe\">\n",
       "  <thead>\n",
       "    <tr style=\"text-align: right;\">\n",
       "      <th></th>\n",
       "      <th>EUR</th>\n",
       "      <th>GOLD</th>\n",
       "      <th>Bitcoin</th>\n",
       "      <th>Apple</th>\n",
       "      <th>Exxon</th>\n",
       "      <th>VISA</th>\n",
       "      <th>Oil</th>\n",
       "    </tr>\n",
       "  </thead>\n",
       "  <tbody>\n",
       "    <tr>\n",
       "      <th>EUR</th>\n",
       "      <td>0.000142</td>\n",
       "      <td>0.000103</td>\n",
       "      <td>0.000140</td>\n",
       "      <td>0.000177</td>\n",
       "      <td>0.000103</td>\n",
       "      <td>0.000171</td>\n",
       "      <td>0.000054</td>\n",
       "    </tr>\n",
       "    <tr>\n",
       "      <th>GOLD</th>\n",
       "      <td>0.000103</td>\n",
       "      <td>0.000564</td>\n",
       "      <td>0.000447</td>\n",
       "      <td>0.000274</td>\n",
       "      <td>0.000232</td>\n",
       "      <td>0.000199</td>\n",
       "      <td>0.000313</td>\n",
       "    </tr>\n",
       "    <tr>\n",
       "      <th>Bitcoin</th>\n",
       "      <td>0.000140</td>\n",
       "      <td>0.000447</td>\n",
       "      <td>0.010059</td>\n",
       "      <td>0.000836</td>\n",
       "      <td>0.001392</td>\n",
       "      <td>0.000668</td>\n",
       "      <td>0.001661</td>\n",
       "    </tr>\n",
       "    <tr>\n",
       "      <th>Apple</th>\n",
       "      <td>0.000177</td>\n",
       "      <td>0.000274</td>\n",
       "      <td>0.000836</td>\n",
       "      <td>0.002072</td>\n",
       "      <td>0.000594</td>\n",
       "      <td>0.001202</td>\n",
       "      <td>0.000492</td>\n",
       "    </tr>\n",
       "    <tr>\n",
       "      <th>Exxon</th>\n",
       "      <td>0.000103</td>\n",
       "      <td>0.000232</td>\n",
       "      <td>0.001392</td>\n",
       "      <td>0.000594</td>\n",
       "      <td>0.003147</td>\n",
       "      <td>0.000894</td>\n",
       "      <td>0.002551</td>\n",
       "    </tr>\n",
       "    <tr>\n",
       "      <th>VISA</th>\n",
       "      <td>0.000171</td>\n",
       "      <td>0.000199</td>\n",
       "      <td>0.000668</td>\n",
       "      <td>0.001202</td>\n",
       "      <td>0.000894</td>\n",
       "      <td>0.001842</td>\n",
       "      <td>0.000652</td>\n",
       "    </tr>\n",
       "    <tr>\n",
       "      <th>Oil</th>\n",
       "      <td>0.000054</td>\n",
       "      <td>0.000313</td>\n",
       "      <td>0.001661</td>\n",
       "      <td>0.000492</td>\n",
       "      <td>0.002551</td>\n",
       "      <td>0.000652</td>\n",
       "      <td>0.006160</td>\n",
       "    </tr>\n",
       "  </tbody>\n",
       "</table>\n",
       "</div>"
      ],
      "text/plain": [
       "              EUR      GOLD   Bitcoin     Apple     Exxon      VISA       Oil\n",
       "EUR      0.000142  0.000103  0.000140  0.000177  0.000103  0.000171  0.000054\n",
       "GOLD     0.000103  0.000564  0.000447  0.000274  0.000232  0.000199  0.000313\n",
       "Bitcoin  0.000140  0.000447  0.010059  0.000836  0.001392  0.000668  0.001661\n",
       "Apple    0.000177  0.000274  0.000836  0.002072  0.000594  0.001202  0.000492\n",
       "Exxon    0.000103  0.000232  0.001392  0.000594  0.003147  0.000894  0.002551\n",
       "VISA     0.000171  0.000199  0.000668  0.001202  0.000894  0.001842  0.000652\n",
       "Oil      0.000054  0.000313  0.001661  0.000492  0.002551  0.000652  0.006160"
      ]
     },
     "execution_count": 40,
     "metadata": {},
     "output_type": "execute_result"
    }
   ],
   "source": [
    "# ковариационная матрица\n",
    "cov_matrix = df_w_pct.cov()\n",
    "cov_matrix"
   ]
  },
  {
   "cell_type": "code",
   "execution_count": 64,
   "metadata": {},
   "outputs": [
    {
     "data": {
      "text/plain": [
       "array([0.1429, 0.1429, 0.1429, 0.1429, 0.1429, 0.1429, 0.1429])"
      ]
     },
     "execution_count": 64,
     "metadata": {},
     "output_type": "execute_result"
    }
   ],
   "source": [
    "# получим инициирующие веса простым делением\n",
    "num_assets = len(tickers)\n",
    "start_weight = round(1/num_assets, 4)\n",
    "# start_weight_eq = round(1 - (num_assets - 1) * start_weight,  4) # для уравнивания последнего веса\n",
    "matrix_weight = np.full(7, start_weight)\n",
    "matrix_weight"
   ]
  },
  {
   "cell_type": "code",
   "execution_count": 41,
   "metadata": {},
   "outputs": [
    {
     "data": {
      "text/plain": [
       "0.12505580148512394"
      ]
     },
     "execution_count": 41,
     "metadata": {},
     "output_type": "execute_result"
    }
   ],
   "source": [
    "portfolio_return_start = np.sum(mean_returns * matrix_weight)\n",
    "portfolio_std_dev_start = np.sqrt(np.dot(matrix_weight.T,np.dot(cov_matrix, matrix_weight)))\n",
    "sharp_start = portfolio_return_start/portfolio_std_dev_start\n",
    "sharp_start"
   ]
  },
  {
   "cell_type": "code",
   "execution_count": 74,
   "metadata": {},
   "outputs": [
    {
     "name": "stdout",
     "output_type": "stream",
     "text": [
      "            Start\n",
      "RETURN   0.004008\n",
      "stdev    0.032048\n",
      "Sharpe   0.125056\n",
      "EUR      0.142900\n",
      "GOLD     0.142900\n",
      "Bitcoin  0.142900\n",
      "Apple    0.142900\n",
      "Exxon    0.142900\n",
      "VISA     0.142900\n",
      "Oil      0.142900\n"
     ]
    }
   ],
   "source": [
    "# объединим полученные значения в таблицу и выведем ее \n",
    "start_result = np.array([portfolio_return_start, portfolio_std_dev_start, sharp_start])\n",
    "start_result = np.array([portfolio_return_start, portfolio_std_dev_start, sharp_start])\n",
    "start_result = np.concatenate((start_result, matrix_weight), axis=0)\n",
    "# СДЕЛАТЬ РАЦИОНАЛЬНЕЕ\n",
    "start_sim_result = pd.DataFrame(start_result, columns=['Start'], index=['RETURN','stdev','Sharpe', tickers[0], tickers[1], tickers[2], tickers[3], tickers[4], tickers[5], tickers[6]])\n",
    "\n",
    "print(start_sim_result) "
   ]
  },
  {
   "attachments": {},
   "cell_type": "markdown",
   "metadata": {},
   "source": [
    "## СИМУЛЯЦИЯ"
   ]
  },
  {
   "cell_type": "code",
   "execution_count": 75,
   "metadata": {},
   "outputs": [],
   "source": [
    "#массив из нулей\n",
    "num_iter = 1000\n",
    "simulations = np.zeros((4 + len(tickers)- 1, num_iter))\n",
    "\n",
    "for i in range(num_iter):\n",
    "        # случайные веса + нормализация, чтоб сумма 1\n",
    "        weights = np.array(np.random.random(7))\n",
    "        weights /= np.sum(weights)\n",
    "        \n",
    "        # доходность и стандартное отклонение\n",
    "        portfolio_return = np.sum(mean_returns * weights)\n",
    "        portfolio_std_dev = np.sqrt(np.dot(weights.T,np.dot(cov_matrix, weights)))\n",
    "        simulations[0,i] = portfolio_return\n",
    "        simulations[1,i] = portfolio_std_dev\n",
    "        \n",
    "        # кэф Шарпа\n",
    "        simulations[2,i] = simulations[0,i] / simulations[1,i]\n",
    "        \n",
    "        # dtcf\n",
    "        for j in range(len(weights)):\n",
    "                simulations[j+3,i] = weights[j]\n",
    "\n",
    "# результат\n",
    "df_sim = pd.DataFrame(simulations.T, \n",
    "                         columns=['RETURN','stdev','Sharpe', tickers[0], tickers[1], tickers[2], tickers[3], tickers[4], tickers[5], tickers[6]])"
   ]
  },
  {
   "cell_type": "code",
   "execution_count": 77,
   "metadata": {},
   "outputs": [
    {
     "name": "stdout",
     "output_type": "stream",
     "text": [
      "Портфель с макс. Шарпом:\n",
      "RETURN     0.004801\n",
      "stdev      0.033341\n",
      "Sharpe     0.143998\n",
      "EUR        0.029989\n",
      "GOLD       0.239391\n",
      "Bitcoin    0.166671\n",
      "Apple      0.272750\n",
      "Exxon      0.222688\n",
      "VISA       0.030447\n",
      "Oil        0.038065\n",
      "Name: 547, dtype: float64\n"
     ]
    }
   ],
   "source": [
    "# максимальный Шарп\n",
    "max_sharpe = df_sim.iloc[df_sim['Sharpe'].idxmax()]\n",
    "\n",
    "# минимальное ст. отклонение\n",
    "min_std = df_sim.iloc[df_sim['stdev'].idxmin()]\n",
    "\n",
    "print (\"Портфель с макс. Шарпом:\", max_sharpe, sep='\\n')"
   ]
  },
  {
   "cell_type": "code",
   "execution_count": 78,
   "metadata": {},
   "outputs": [
    {
     "name": "stdout",
     "output_type": "stream",
     "text": [
      "Портфель с мин. риском:\n",
      "RETURN     0.001217\n",
      "stdev      0.018136\n",
      "Sharpe     0.067111\n",
      "EUR        0.375118\n",
      "GOLD       0.310509\n",
      "Bitcoin    0.001461\n",
      "Apple      0.097064\n",
      "Exxon      0.011161\n",
      "VISA       0.196968\n",
      "Oil        0.007718\n",
      "Name: 210, dtype: float64\n"
     ]
    }
   ],
   "source": [
    "print (\"Портфель с мин. риском:\", min_std, sep='\\n')"
   ]
  },
  {
   "cell_type": "code",
   "execution_count": null,
   "metadata": {},
   "outputs": [],
   "source": []
  }
 ],
 "metadata": {
  "kernelspec": {
   "display_name": "Python 3",
   "language": "python",
   "name": "python3"
  },
  "language_info": {
   "codemirror_mode": {
    "name": "ipython",
    "version": 3
   },
   "file_extension": ".py",
   "mimetype": "text/x-python",
   "name": "python",
   "nbconvert_exporter": "python",
   "pygments_lexer": "ipython3",
   "version": "3.8.5"
  },
  "orig_nbformat": 4,
  "vscode": {
   "interpreter": {
    "hash": "2469a70536e4d2335a2ea8907942d0699c37342a371ac185bdb5b0aa6f073890"
   }
  }
 },
 "nbformat": 4,
 "nbformat_minor": 2
}
